{
 "cells": [
  {
   "cell_type": "code",
   "execution_count": 1,
   "metadata": {},
   "outputs": [
    {
     "name": "stdout",
     "output_type": "stream",
     "text": [
      "[]\n"
     ]
    }
   ],
   "source": [
    "class Node:\n",
    "    def __init__(self, item = 0):\n",
    "        self.key = item\n",
    "        self.left, self.right = None, None # 왼쪽 값과 오른쪽 값 정의\n",
    "\n",
    "root = Node()\n",
    "\n",
    "def insert(root, key): # insert method 구현\n",
    "    if (root == None):\n",
    "        root == Node(key)\n",
    "        return root\n",
    "    \n",
    "    if (key < root.key):\n",
    "        root.left = insert(root.left, key)\n",
    "    else:\n",
    "        root.right = insert(root.right, key)\n",
    "    \n",
    "    return root\n",
    "\n",
    "def treeInsert(data, root):\n",
    "    for key in data:\n",
    "        root = insert(root, key)\n",
    "\n",
    "def inorderRec(root, answer):\n",
    "    if (root != None):\n",
    "        inorderRec(root.left, answer)\n",
    "        answer.append(root.key)\n",
    "        inorderRec(root.right, answer)\n",
    "\n",
    "sample = [3, 0, 1, 8, 7, 2, 5, 4, 6, 9]\n",
    "answer = []\n",
    "\n",
    "treeInsert(sample, root)\n",
    "inorderRec(root, answer)\n",
    "print(answer[1:]) # 탐색 시작 시점에서 들어간 루트 노드 제외"
   ]
  },
  {
   "cell_type": "code",
   "execution_count": null,
   "metadata": {},
   "outputs": [],
   "source": []
  }
 ],
 "metadata": {
  "kernelspec": {
   "display_name": "Python 3",
   "language": "python",
   "name": "python3"
  },
  "language_info": {
   "codemirror_mode": {
    "name": "ipython",
    "version": 3
   },
   "file_extension": ".py",
   "mimetype": "text/x-python",
   "name": "python",
   "nbconvert_exporter": "python",
   "pygments_lexer": "ipython3",
   "version": "3.11.2"
  }
 },
 "nbformat": 4,
 "nbformat_minor": 2
}
