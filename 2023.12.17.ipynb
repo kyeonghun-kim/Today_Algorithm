{
 "cells": [
  {
   "cell_type": "markdown",
   "metadata": {},
   "source": [
    "# BackJoon 1157 단어 공부(문자열)\n",
    "\n",
    "### **문제**\n",
    "---\n",
    "알파벳 대소문자로 된 단어가 주어지면, 이 단어에서 가장 많이 사용된 알파벳이 무엇인지 알아내는 프로그램을 작성하시오. 단, 대문자와 소문자를 구분하지 않는다.\n",
    "\n",
    "### **입력**과 **출력**\n",
    "---\n",
    "첫째 줄에 알파벳 대소문자로 이루어진 단어가 주어진다. 주어지는 단어의 길이는 1,000,000을 넘지 않는다.\n",
    "\n",
    "첫째 줄에 이 단어에서 가장 많이 사용된 알파벳을 대문자로 출력한다. 단, 가장 많이 사용된 알파벳이 여러 개 존재하는 경우에는 ?를 출력한다."
   ]
  },
  {
   "cell_type": "code",
   "execution_count": 14,
   "metadata": {},
   "outputs": [
    {
     "name": "stdout",
     "output_type": "stream",
     "text": [
      "?\n"
     ]
    }
   ],
   "source": [
    "# 풀이\n",
    "# 1. 대소문자를 구분하지 않기 때문에 입력 받은 문자열을 모두 대문자로 바꾼다.\n",
    "# 2. 반복문을 돌면서 각 문자의 갯수를 구하고 가장 많은 문자를 찾는다. get() 함수를 사용하자.\n",
    "\n",
    "string = list(input().upper())\n",
    "count_dict = {}\n",
    "\n",
    "# 각 문자의 숫자 세기\n",
    "for word in string:\n",
    "    count_dict[word] = count_dict.get(word, 0) + 1\n",
    "\n",
    "# 가장 큰 값을 가지는 key값 찾기\n",
    "count_list = [k for k, v in count_dict.items() if max(count_dict.values()) == v]\n",
    "\n",
    "# 문제의 조건에 따라 가장 큰 값이 여러개인 경우 '?'를 출력함.\n",
    "if len(count_list) > 1:\n",
    "    print('?')\n",
    "else:\n",
    "    print(count_list[-1])"
   ]
  },
  {
   "cell_type": "markdown",
   "metadata": {},
   "source": [
    "# BackJoon 10809번 알파벳 찾기 (문자열)\n",
    "\n",
    "### **문제**\n",
    "---\n",
    "알파벳 소문자로만 이루어진 단어 S가 주어진다. 각각의 알파벳에 대해서, 단어에 포함되어 있는 경우에는 처음 등장하는 위치를, 포함되어 있지 않은 경우에는 -1을 출력하는 프로그램을 작성하시오.\n",
    "\n",
    "### **입력**과 **출력**\n",
    "---\n",
    "첫째 줄에 단어 S가 주어진다. 단어의 길이는 100을 넘지 않으며, 알파벳 소문자로만 이루어져 있다.\n",
    "\n",
    "각각의 알파벳에 대해서, a가 처음 등장하는 위치, b가 처음 등장하는 위치, ... z가 처음 등장하는 위치를 공백으로 구분해서 출력한다.\n",
    "\n",
    "만약, 어떤 알파벳이 단어에 포함되어 있지 않다면 -1을 출력한다. 단어의 첫 번째 글자는 0번째 위치이고, 두 번째 글자는 1번째 위치이다."
   ]
  },
  {
   "cell_type": "code",
   "execution_count": 39,
   "metadata": {},
   "outputs": [
    {
     "name": "stdout",
     "output_type": "stream",
     "text": [
      "1 0 2 -1 -1 -1 -1 -1 -1 4 3 -1 -1 7 5 -1 -1 -1 -1 -1 -1 -1 -1 -1 -1 -1\n"
     ]
    }
   ],
   "source": [
    "# 풀이\n",
    "# 1. 알파벳 모음이 필요하다. 거기서 in을 사용하자.\n",
    "# 2. 제시된 문자열을 반복문을 사용하면서 비교하자.\n",
    "# 3. 비교된 위치를 공백으로 구분해서 출력하자.\n",
    "\n",
    "string = input()\n",
    "alphabet = 'abcdefghijklmnopqrstuvwxyz'\n",
    "result = [0] * 26\n",
    "for index, word in enumerate(alphabet):\n",
    "    if word in string:\n",
    "        result[index] = str(string.find(word))\n",
    "    else:\n",
    "        result[index] = '-1'\n",
    "\n",
    "print(' '.join(result))"
   ]
  }
 ],
 "metadata": {
  "kernelspec": {
   "display_name": "Python 3",
   "language": "python",
   "name": "python3"
  },
  "language_info": {
   "codemirror_mode": {
    "name": "ipython",
    "version": 3
   },
   "file_extension": ".py",
   "mimetype": "text/x-python",
   "name": "python",
   "nbconvert_exporter": "python",
   "pygments_lexer": "ipython3",
   "version": "3.11.2"
  }
 },
 "nbformat": 4,
 "nbformat_minor": 2
}
