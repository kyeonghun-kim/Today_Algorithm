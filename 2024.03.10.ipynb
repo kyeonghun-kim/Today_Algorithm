{
 "cells": [
  {
   "cell_type": "markdown",
   "metadata": {},
   "source": [
    "# Programmers N으로 표현\n",
    "\n",
    "[전체 문제 보기](https://school.programmers.co.kr/learn/courses/30/lessons/42895)\n",
    "\n",
    "### 문제\n",
    "---\n",
    "아래와 같이 5와 사칙연산만으로 12를 표현할 수 있습니다.\n",
    "\n",
    "12 = 5 + 5 + (5 / 5) + (5 / 5)\n",
    "12 = 55 / 5 + 5 / 5\n",
    "12 = (55 + 5) / 5\n",
    "\n",
    "5를 사용한 횟수는 각각 6,5,4 입니다. 그리고 이중 가장 작은 경우는 4입니다.\n",
    "이처럼 숫자 N과 number가 주어질 때, N과 사칙연산만 사용해서 표현 할 수 있는 방법 중 N 사용횟수의 최솟값을 return 하도록 solution 함수를 작성하세요.\n",
    "\n",
    "### 입출력 예\n",
    "---\n",
    "|N|number|return|\n",
    "|---|---|---|\n",
    "|5|12|4|\n",
    "|2|11|3|\n",
    "\n",
    "\n",
    "### 제한 사항\n",
    "---\n",
    "- N은 1 이상 9 이하입니다.\n",
    "- number는 1 이상 32,000 이하입니다.\n",
    "- 수식에는 괄호와 사칙연산만 가능하며 나누기 연산에서 나머지는 무시합니다.\n",
    "- 최솟값이 8보다 크면 -1을 return 합니다."
   ]
  },
  {
   "cell_type": "code",
   "execution_count": null,
   "metadata": {},
   "outputs": [],
   "source": [
    "# 동적 프로그래밍 문제\n",
    "N = 5\n",
    "number = 12\n",
    "\n",
    "# 연산 결과 기록할 배열 만들기(8번을 초과하면 무조건 -1이기 때문에 8번만 반복)\n",
    "\n",
    "def solution(N, number):\n",
    "    dp = [set() for _ in range(9)]\n",
    "    for i in range(1, 9):\n",
    "        case = dp[i]\n",
    "        case.add(int(str(N) * i))\n",
    "        for j in range(1, i):\n",
    "            for k in dp[j]:\n",
    "                for l in dp[i - j]:\n",
    "                    case.add(k+l)\n",
    "                    case.add(k-l)\n",
    "                    case.add(k*l)\n",
    "                    if l != 0 and k != 0: case.add(k // l)\n",
    "\n",
    "        if number in case: return i\n",
    "    return -1\n",
    "\n",
    "solution(N, number)"
   ]
  },
  {
   "attachments": {
    "image.png": {
     "image/png": "[encoded data removed]"
    }
   },
   "cell_type": "markdown",
   "metadata": {},
   "source": [
    "# Programmers 정수 삼각형\n",
    "\n",
    "[전체 문제 보기](https://school.programmers.co.kr/learn/courses/30/lessons/43105)\n",
    "\n",
    "### 문제\n",
    "---\n",
    "![image.png](attachment:image.png)\n",
    "\n",
    "위와 같은 삼각형의 꼭대기에서 바닥까지 이어지는 경로 중, 거쳐간 숫자의 합이 가장 큰 경우를 찾아보려고 합니다. 아래 칸으로 이동할 때는 대각선 방향으로 한 칸 오른쪽 또는 왼쪽으로만 이동 가능합니다. 예를 들어 3에서는 그 아래칸의 8 또는 1로만 이동이 가능합니다.\n",
    "\n",
    "삼각형의 정보가 담긴 배열 triangle이 매개변수로 주어질 때, 거쳐간 숫자의 최댓값을 return 하도록 solution 함수를 완성하세요.\n",
    "\n",
    "### 입출력 예\n",
    "---\n",
    "|triangle|result|\n",
    "|---|---|\n",
    "|[[7], [3, 8], [8, 1, 0], [2, 7, 4, 4], [4, 5, 2, 6, 5]]|30|\n",
    "\n",
    "### 제한 사항\n",
    "---\n",
    "- 삼각형의 높이는 1 이상 500 이하입니다.\n",
    "- 삼각형을 이루고 있는 숫자는 0 이상 9,999 이하의 정수입니다."
   ]
  },
  {
   "cell_type": "code",
   "execution_count": 28,
   "metadata": {},
   "outputs": [
    {
     "name": "stdout",
     "output_type": "stream",
     "text": [
      "30\n"
     ]
    }
   ],
   "source": [
    "triangle = [[7], [3, 8], [8, 1, 0], [2, 7, 4, 4], [4, 5, 2, 6, 5]]\n",
    "\n",
    "dp = [[0, *t, 0] for t in triangle]\n",
    "for i in range(1, len(triangle)):\n",
    "    for j in range(1, i+2):\n",
    "        dp[i][j] += max(dp[i - 1][j - 1], dp[i - 1][j])\n",
    "\n",
    "print(max(dp[-1]))"
   ]
  }
 ],
 "metadata": {
  "kernelspec": {
   "display_name": "Python 3",
   "language": "python",
   "name": "python3"
  },
  "language_info": {
   "codemirror_mode": {
    "name": "ipython",
    "version": 3
   },
   "file_extension": ".py",
   "mimetype": "text/x-python",
   "name": "python",
   "nbconvert_exporter": "python",
   "pygments_lexer": "ipython3",
   "version": "3.11.2"
  }
 },
 "nbformat": 4,
 "nbformat_minor": 2
}
