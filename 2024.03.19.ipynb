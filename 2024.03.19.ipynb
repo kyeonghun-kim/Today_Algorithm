{
 "cells": [
  {
   "cell_type": "markdown",
   "metadata": {},
   "source": [
    "# BackJoon 11047번 동전 0\n",
    "\n",
    "[전체 문제 보기](https://www.acmicpc.net/problem/11047)\n",
    "\n",
    "### 문제\n",
    "---\n",
    "준규가 가지고 있는 동전은 총 N종류이고, 각각의 동전을 매우 많이 가지고 있다.\n",
    "\n",
    "동전을 적절히 사용해서 그 가치의 합을 K로 만들려고 한다. 이때 필요한 동전 개수의 최솟값을 구하는 프로그램을 작성하시오.\n",
    "\n",
    "### 입력\n",
    "---\n",
    "첫째 줄에 N과 K가 주어진다. (1 ≤ N ≤ 10, 1 ≤ K ≤ 100,000,000)\n",
    "\n",
    "둘째 줄부터 N개의 줄에 동전의 가치 Ai가 오름차순으로 주어진다. (1 ≤ Ai ≤ 1,000,000, A1 = 1, i ≥ 2인 경우에 Ai는 Ai-1의 배수)\n",
    "\n",
    "### 출력\n",
    "---\n",
    "첫째 줄에 K원을 만드는데 필요한 동전 개수의 최솟값을 출력한다."
   ]
  },
  {
   "cell_type": "code",
   "execution_count": 17,
   "metadata": {},
   "outputs": [
    {
     "name": "stdout",
     "output_type": "stream",
     "text": [
      "6\n"
     ]
    }
   ],
   "source": [
    "# 큰 것부터 사용해서 빼면 되겠다.\n",
    "# M보다 큰 동전을 사용할 필요는 없다.\n",
    "\n",
    "N, M = 10, 4200\n",
    "coins = [1, 5, 10, 50, 100, 500, 1000, 5000, 10000, 50000]\n",
    "coins.sort(reverse = True)\n",
    "count = 0\n",
    "idx = 0\n",
    "while M > 0:\n",
    "    if M // coins[idx] == 0:\n",
    "        idx += 1\n",
    "    else:\n",
    "        if M % coins[idx] == 0:\n",
    "            count += (M // coins[idx])\n",
    "            M = (M % coins[idx])\n",
    "        elif M % coins[idx] != 0:\n",
    "            count += (M // coins[idx])\n",
    "            M = (M % coins[idx])\n",
    "            idx += 1\n",
    "print(count)"
   ]
  },
  {
   "cell_type": "code",
   "execution_count": 19,
   "metadata": {},
   "outputs": [
    {
     "name": "stdout",
     "output_type": "stream",
     "text": [
      "6\n"
     ]
    }
   ],
   "source": [
    "# 더 간결한 버전\n",
    "N, M = 10, 4200\n",
    "coins = [1, 5, 10, 50, 100, 500, 1000, 5000, 10000, 50000]\n",
    "count = 0\n",
    "for i in range(N-1, -1, -1):\n",
    "    count += M // coins[i]\n",
    "    M %= coins[i]\n",
    "\n",
    "print(count)"
   ]
  },
  {
   "cell_type": "code",
   "execution_count": null,
   "metadata": {},
   "outputs": [],
   "source": []
  }
 ],
 "metadata": {
  "kernelspec": {
   "display_name": "Python 3",
   "language": "python",
   "name": "python3"
  },
  "language_info": {
   "codemirror_mode": {
    "name": "ipython",
    "version": 3
   },
   "file_extension": ".py",
   "mimetype": "text/x-python",
   "name": "python",
   "nbconvert_exporter": "python",
   "pygments_lexer": "ipython3",
   "version": "3.11.2"
  }
 },
 "nbformat": 4,
 "nbformat_minor": 2
}
