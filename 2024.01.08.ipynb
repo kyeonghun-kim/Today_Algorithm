{
 "cells": [
  {
   "cell_type": "markdown",
   "metadata": {},
   "source": [
    "# Programmers 수식 최대화\n",
    "\n",
    "### 문제\n",
    "---\n",
    "IT 벤처 회사를 운영하고 있는 라이언은 매년 사내 해커톤 대회를 개최하여 우승자에게 상금을 지급하고 있습니다. 이번 대회에서는 우승자에게 지급되는 상금을 이전 대회와는 다르게 다음과 같은 방식으로 결정하려고 합니다.\n",
    "\n",
    "해커톤 대회에 참가하는 모든 참가자들에게는 숫자들과 3가지의 연산문자(+, -, *) 만으로 이루어진 연산 수식이 전달되며, 참가자의 미션은 전달받은 수식에 포함된 연산자의 우선순위를 자유롭게 재정의하여 만들 수 있는 가장 큰 숫자를 제출하는 것입니다.\n",
    "\n",
    "단, 연산자의 우선순위를 새로 정의할 때, 같은 순위의 연산자는 없어야 합니다. 즉, `+ > - > *` 또는 `- > * > +` 등과 같이 연산자 우선순위를 정의할 수 있으나 `+,* > -` 또는 `* > +,-`처럼 2개 이상의 연산자가 동일한 순위를 가지도록 연산자 우선순위를 정의할 수는 없습니다. 수식에 포함된 연산자가 2개라면 정의할 수 있는 연산자 우선순위 조합은 2! = 2가지이며, 연산자가 3개라면 3! = 6가지 조합이 가능합니다.\n",
    "\n",
    "만약 계산된 결과가 음수라면 해당 숫자의 절댓값으로 변환하여 제출하며 제출한 숫자가 가장 큰 참가자를 우승자로 선정하며, 우승자가 제출한 숫자를 우승상금으로 지급하게 됩니다.\n",
    "\n",
    "예를 들어, 참가자 중 네오가 아래와 같은 수식을 전달받았다고 가정합니다.\n",
    "\n",
    "`\"100-200*300-500+20\"`\n",
    "\n",
    "일반적으로 수학 및 전산학에서 약속된 연산자 우선순위에 따르면 더하기와 빼기는 서로 동등하며 곱하기는 더하기, 빼기에 비해 우선순위가 높아 `* > +,-` 로 우선순위가 정의되어 있습니다.\n",
    "\n",
    "대회 규칙에 따라 `+ > - > *` 또는 `- > * > +` 등과 같이 연산자 우선순위를 정의할 수 있으나 `+,* > -` 또는 `* > +,-` 처럼 2개 이상의 연산자가 동일한 순위를 가지도록 연산자 우선순위를 정의할 수는 없습니다.\n",
    "\n",
    "수식에 연산자가 3개 주어졌으므로 가능한 연산자 우선순위 조합은 3! = 6가지이며, 그 중 `+ > - > *` 로 연산자 우선순위를 정한다면 결괏값은 22,000원이 됩니다.\n",
    "\n",
    "반면에 `* > + > -` 로 연산자 우선순위를 정한다면 수식의 결괏값은 -60,420 이지만, 규칙에 따라 우승 시 상금은 절댓값인 60,420원이 됩니다.\n",
    "\n",
    "참가자에게 주어진 연산 수식이 담긴 문자열 expression이 매개변수로 주어질 때, 우승 시 받을 수 있는 가장 큰 상금 금액을 return 하도록 solution 함수를 완성해주세요.\n",
    "\n",
    "#### 제한사항\n",
    "- expression은 길이가 3 이상 100 이하인 문자열입니다.\n",
    "- expression은 공백문자, 괄호문자 없이 오로지 숫자와 3가지의 연산자(+, -, *) 만으로 이루어진 올바른 중위표기법(연산의 두 대상 사이에 연산기호를 사용하는 방식)으로 표현된 연산식입니다. 잘못된 연산식은 입력으로 주어지지 않습니다.\n",
    "- 즉, \"402+-561*\"처럼 잘못된 수식은 올바른 중위표기법이 아니므로 주어지지 않습니다.\n",
    "- expression의 피연산자(operand)는 0 이상 999 이하의 숫자입니다. 즉, \"100-2145*458+12\"처럼 999를 초과하는 피연산자가 포함된 수식은 입력으로 주어지지 않습니다.\n",
    "- \"-56+100\"처럼 피연산자가 음수인 수식도 입력으로 주어지지 않습니다.\n",
    "- expression은 적어도 1개 이상의 연산자를 포함하고 있습니다.\n",
    "- 연산자 우선순위를 어떻게 적용하더라도, expression의 중간 계산값과 최종 결괏값은 절댓값이 $2^{63}$ - 1 이하가 되도록 입력이 주어집니다.\n",
    "같은 연산자끼리는 앞에 있는 것의 우선순위가 더 높습니다."
   ]
  },
  {
   "cell_type": "code",
   "execution_count": null,
   "metadata": {},
   "outputs": [],
   "source": [
    "# 풀이\n",
    "# 1. 연산의 갯수에 따라 우선순위를 구하는 조합이 필요함. --> 순서가 중요함.\n",
    "# 2. 연산자의 우선순위에 따라 계산을 진행해야함.\n",
    "# 3. 정규표현식을 사용해볼 수 있음"
   ]
  },
  {
   "cell_type": "code",
   "execution_count": 16,
   "metadata": {},
   "outputs": [
    {
     "data": {
      "text/plain": [
       "60420"
      ]
     },
     "execution_count": 16,
     "metadata": {},
     "output_type": "execute_result"
    }
   ],
   "source": [
    "import re\n",
    "from itertools import permutations\n",
    "expression = \"100-200*300-500+20\"\n",
    "\n",
    "def toPostFix(tokens, priority):\n",
    "    stack = []\n",
    "    postfix = []\n",
    "\n",
    "    for token in tokens:\n",
    "        if token.isdigit(): postfix.append(token)\n",
    "        else:\n",
    "            if not stack: stack.append(token)\n",
    "            else:\n",
    "                while stack:\n",
    "                    if priority[token] <= priority[stack[-1]]:\n",
    "                        postfix.append(stack.pop())\n",
    "                    else: break\n",
    "                \n",
    "                stack.append(token)\n",
    "        \n",
    "    while stack:\n",
    "        postfix.append(stack.pop())\n",
    "    return postfix\n",
    "\n",
    "def calc(tokens):\n",
    "    stack = []\n",
    "\n",
    "    for token in tokens:\n",
    "        if token.isdigit():\n",
    "            stack.append(int(token))\n",
    "            continue\n",
    "\n",
    "        num1 = stack.pop()\n",
    "        num2 = stack.pop()\n",
    "        if token == '*':\n",
    "            stack.append(num2 * num1)\n",
    "        elif token == '+':\n",
    "            stack.append(num2 + num1)\n",
    "        else:\n",
    "            stack.append(num2 - num1)\n",
    "    return stack.pop()\n",
    "\n",
    "def solution(expression):\n",
    "    tokens = re.split(r'([+*-/()])|\\s+', expression)\n",
    "    operators = ['+', '*', '-']\n",
    "    answer = 0\n",
    "\n",
    "    for i in map(list, permutations(operators)):\n",
    "        priority = {o:p for p, o in enumerate(list(i))}\n",
    "        postfix = toPostFix(tokens, priority)\n",
    "        answer = max(answer, abs(calc(postfix)))\n",
    "\n",
    "    return answer\n",
    "\n",
    "\n",
    "solution(expression)"
   ]
  },
  {
   "cell_type": "code",
   "execution_count": null,
   "metadata": {},
   "outputs": [],
   "source": []
  },
  {
   "cell_type": "code",
   "execution_count": null,
   "metadata": {},
   "outputs": [],
   "source": []
  }
 ],
 "metadata": {
  "kernelspec": {
   "display_name": "Python 3",
   "language": "python",
   "name": "python3"
  },
  "language_info": {
   "codemirror_mode": {
    "name": "ipython",
    "version": 3
   },
   "file_extension": ".py",
   "mimetype": "text/x-python",
   "name": "python",
   "nbconvert_exporter": "python",
   "pygments_lexer": "ipython3",
   "version": "3.11.2"
  }
 },
 "nbformat": 4,
 "nbformat_minor": 2
}
