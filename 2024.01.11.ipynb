{
 "cells": [
  {
   "cell_type": "markdown",
   "metadata": {},
   "source": [
    "# BackJoon 커트라인 25305번\n",
    "\n",
    "### **문제**\n",
    "---\n",
    "2022 연세대학교 미래캠퍼스 슬기로운 코딩생활에 \n",
    "$N$명의 학생들이 응시했다.\n",
    "\n",
    "이들 중 점수가 가장 높은 \n",
    "$k$명은 상을 받을 것이다. 이 때, 상을 받는 커트라인이 몇 점인지 구하라.\n",
    "\n",
    "커트라인이란 상을 받는 사람들 중 점수가 가장 가장 낮은 사람의 점수를 말한다.\n",
    "\n",
    "### **입력**과 **출력**\n",
    "---\n",
    "첫째 줄에는 응시자의 수 \n",
    "$N$과 상을 받는 사람의 수 \n",
    "$k$가 공백을 사이에 두고 주어진다.\n",
    "\n",
    "둘째 줄에는 각 학생의 점수 \n",
    "$x$가 공백을 사이에 두고 주어진다.\n",
    "\n",
    "상을 받는 커트라인을 출력하라."
   ]
  },
  {
   "cell_type": "code",
   "execution_count": null,
   "metadata": {},
   "outputs": [],
   "source": [
    "# 풀이\n",
    "# 1. 입력된 학생의 성적을 정렬한다.\n",
    "# 2. 정렬된 학생의 성적에서 k번째로 큰 성적을 구한다.\n",
    "\n",
    "N, k = map(int, input().split())\n",
    "x = map(int, input().split())\n",
    "print(sorted(x)[-k])"
   ]
  },
  {
   "cell_type": "markdown",
   "metadata": {},
   "source": [
    "# BackJoon 2750번 수 정렬하기\n",
    "\n",
    "### **문제**\n",
    "---\n",
    "N개의 수가 주어졌을 때, 이를 오름차순으로 정렬하는 프로그램을 작성하시오.\n",
    "\n",
    "### **입력**과 **출력**\n",
    "---\n",
    "첫째 줄에 수의 개수 N(1 ≤ N ≤ 1,000)이 주어진다. 둘째 줄부터 N개의 줄에는 수가 주어진다. 이 수는 절댓값이 1,000보다 작거나 같은 정수이다. 수는 중복되지 않는다.\n",
    "\n",
    "첫째 줄부터 N개의 줄에 오름차순으로 정렬한 결과를 한 줄에 하나씩 출력한다."
   ]
  },
  {
   "cell_type": "code",
   "execution_count": null,
   "metadata": {},
   "outputs": [],
   "source": [
    "# 풀이\n",
    "N = int(input())\n",
    "numbers = []\n",
    "for _ in range(N):\n",
    "    x = int(input())\n",
    "    numbers.append(x)\n",
    "numbers.sort() # 오름차순으로 정렬\n",
    "for num in numbers: # 정렬된 순서대로 출력\n",
    "    print(num)"
   ]
  },
  {
   "cell_type": "code",
   "execution_count": 7,
   "metadata": {},
   "outputs": [
    {
     "name": "stdout",
     "output_type": "stream",
     "text": [
      "[1, 2, 3, 4, 5]\n"
     ]
    }
   ],
   "source": [
    "# 삽입정렬 사용\n",
    "data = [5, 2, 3, 4, 1]\n",
    "for idx in range(1, len(data)):\n",
    "    i = idx\n",
    "    while i > 0 and data[i-1] > data[i]:\n",
    "        data[i - 1], data[i] = data[i], data[i - 1]\n",
    "        i -= 1\n",
    "print(data)"
   ]
  },
  {
   "cell_type": "code",
   "execution_count": null,
   "metadata": {},
   "outputs": [],
   "source": []
  }
 ],
 "metadata": {
  "kernelspec": {
   "display_name": "Python 3",
   "language": "python",
   "name": "python3"
  },
  "language_info": {
   "codemirror_mode": {
    "name": "ipython",
    "version": 3
   },
   "file_extension": ".py",
   "mimetype": "text/x-python",
   "name": "python",
   "nbconvert_exporter": "python",
   "pygments_lexer": "ipython3",
   "version": "3.11.2"
  }
 },
 "nbformat": 4,
 "nbformat_minor": 2
}
