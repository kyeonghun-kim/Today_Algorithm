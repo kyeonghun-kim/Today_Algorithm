{
 "cells": [
  {
   "cell_type": "markdown",
   "metadata": {},
   "source": [
    "# BackJoon 11650번 좌표 정렬하기\n",
    "\n",
    "### **문제**\n",
    "---\n",
    "2차원 평면 위의 점 N개가 주어진다. 좌표를 x좌표가 증가하는 순으로, x좌표가 같으면 y좌표가 증가하는 순서로 정렬한 다음 출력하는 프로그램을 작성하시오.\n",
    "\n",
    "### **입력**과 **출력**\n",
    "---\n",
    "첫째 줄에 점의 개수 N (1 ≤ N ≤ 100,000)이 주어진다. 둘째 줄부터 N개의 줄에는 i번점의 위치 xi와 yi가 주어진다. (-100,000 ≤ xi, yi ≤ 100,000) 좌표는 항상 정수이고, 위치가 같은 두 점은 없다.\n",
    "\n",
    "첫째 줄부터 N개의 줄에 점을 정렬한 결과를 출력한다."
   ]
  },
  {
   "cell_type": "code",
   "execution_count": null,
   "metadata": {},
   "outputs": [],
   "source": [
    "# BackJoon 11650번 좌표 정렬하기\n",
    "# 1. 각 좌표값을 입력으로 받고 리스트로 저장한다.\n",
    "# 2. 저장된 2차원 행렬을 sort를 사용하여 정렬한다.\n",
    "# 3. 리스트 정렬의 경우 x값으로 먼저 정렬한 후 y으로 정렬하기 때문에 해결할 수 있다.\n",
    "N = int(input())\n",
    "matrix = []\n",
    "\n",
    "for _ in range(N):\n",
    "    x, y = map(int, input().split())\n",
    "    matrix.append([x,y])\n",
    "\n",
    "matrix.sort()\n",
    "\n",
    "for i in range(N):\n",
    "    print(matrix[i][0], matrix[i][1])"
   ]
  },
  {
   "cell_type": "code",
   "execution_count": null,
   "metadata": {},
   "outputs": [],
   "source": [
    "# cmp_to_key를 사용하는 경우\n",
    "\n",
    "from functools import cmp_to_key\n",
    "\n",
    "N = int(input())\n",
    "matrix = []\n",
    "def compare(n1, n2): # x좌표, y좌표\n",
    "    if n1[0] > n2[0]:\n",
    "        return 1\n",
    "    elif n1[0] == n2[0]:\n",
    "        if n1[1] > n2[1]:\n",
    "            return 1\n",
    "        elif n1[1] == n2[1]:\n",
    "            return 0\n",
    "        else:\n",
    "            return -1\n",
    "    else:\n",
    "        return -1\n",
    "\n",
    "for _ in range(N):\n",
    "    x, y = map(int, input().split())\n",
    "    matrix.append([x,y])\n",
    "\n",
    "matrix.sort(key = cmp_to_key(compare))\n",
    "\n",
    "for i in range(N):\n",
    "    print(matrix[i][0], matrix[i][1])"
   ]
  },
  {
   "cell_type": "markdown",
   "metadata": {},
   "source": [
    "# BackJoon 11651번 좌표 정렬하기 2\n",
    "\n",
    "### **문제**\n",
    "---\n",
    "2차원 평면 위의 점 N개가 주어진다. 좌표를 y좌표가 증가하는 순으로, y좌표가 같으면 x좌표가 증가하는 순서로 정렬한 다음 출력하는 프로그램을 작성하시오.\n",
    "\n",
    "### **입력**과 **출력**\n",
    "---\n",
    "첫째 줄에 점의 개수 N (1 ≤ N ≤ 100,000)이 주어진다. 둘째 줄부터 N개의 줄에는 i번점의 위치 xi와 yi가 주어진다. (-100,000 ≤ xi, yi ≤ 100,000) 좌표는 항상 정수이고, 위치가 같은 두 점은 없다.\n",
    "\n",
    "첫째 줄부터 N개의 줄에 점을 정렬한 결과를 출력한다."
   ]
  },
  {
   "cell_type": "code",
   "execution_count": null,
   "metadata": {},
   "outputs": [],
   "source": [
    "# 풀이\n",
    "# 1. lambda 함수를 사용해서 key 값을 변경한다.\n",
    "\n",
    "N = int(input())\n",
    "matrix = []\n",
    "for _ in range(N):\n",
    "    x, y = map(int, input().split())\n",
    "    matrix.append([x,y])\n",
    "\n",
    "matrix.sort(key = lambda x: (x[1], x[0]))\n",
    "for i in range(N):\n",
    "    print(matrix[i][0], matrix[i][1])"
   ]
  }
 ],
 "metadata": {
  "language_info": {
   "name": "python"
  }
 },
 "nbformat": 4,
 "nbformat_minor": 2
}
