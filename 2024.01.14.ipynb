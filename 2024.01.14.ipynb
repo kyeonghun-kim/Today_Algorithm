{
 "cells": [
  {
   "cell_type": "markdown",
   "metadata": {},
   "source": [
    "# Programmers 가장 큰 수\n",
    "\n",
    "### **문제**\n",
    "0 또는 양의 정수가 주어졌을 때, 정수를 이어 붙여 만들 수 있는 가장 큰 수를 알아내 주세요.\n",
    "\n",
    "예를 들어, 주어진 정수가 [6, 10, 2]라면 [6102, 6210, 1062, 1026, 2610, 2106]를 만들 수 있고, 이중 가장 큰 수는 6210입니다.\n",
    "\n",
    "0 또는 양의 정수가 담긴 배열 numbers가 매개변수로 주어질 때, 순서를 재배치하여 만들 수 있는 가장 큰 수를 문자열로 바꾸어 return 하도록 solution 함수를 작성해주세요.\n",
    "\n",
    "### 제한사항\n",
    "- numbers의 길이는 1 이상 100,000 이하입니다.\n",
    "- numbers의 원소는 0 이상 1,000 이하입니다.\n",
    "- 정답이 너무 클 수 있으니 문자열로 바꾸어 return 합니다."
   ]
  },
  {
   "cell_type": "code",
   "execution_count": 1,
   "metadata": {},
   "outputs": [
    {
     "name": "stdout",
     "output_type": "stream",
     "text": [
      "9534330\n"
     ]
    }
   ],
   "source": [
    "# cmp_to_key를 사용하는 방법\n",
    "from functools import cmp_to_key\n",
    "\n",
    "numbers = [3, 30, 34, 5, 9]\n",
    "\n",
    "numbers = [str(x) for x in numbers]\n",
    "numbers.sort(key=cmp_to_key(lambda x, y: int(x+y) - int(y+x)), reverse=True)\n",
    "print(str(int(''.join(numbers))))"
   ]
  },
  {
   "cell_type": "code",
   "execution_count": 2,
   "metadata": {},
   "outputs": [
    {
     "data": {
      "text/plain": [
       "'9534330'"
      ]
     },
     "execution_count": 2,
     "metadata": {},
     "output_type": "execute_result"
    }
   ],
   "source": [
    "# 개선된 방법\n",
    "numbers = [3, 30, 34, 5, 9]\n",
    "\n",
    "def solution(numbers):\n",
    "    numbers = [str(x) for x in numbers]\n",
    "    numbers.sort(key = lambda x: x * 3, reverse = True)\n",
    "    result = ''.join(numbers)\n",
    "\n",
    "    if '0' * len(numbers) == result: return '0'\n",
    "\n",
    "    return result\n",
    "\n",
    "solution(numbers)"
   ]
  },
  {
   "cell_type": "markdown",
   "metadata": {},
   "source": [
    "# BakcJoon 2751번 수 정렬하기2\n",
    "\n",
    "### **문제**\n",
    "---\n",
    "N개의 수가 주어졌을 때, 이를 오름차순으로 정렬하는 프로그램을 작성하시오.\n",
    "\n",
    "### **입력**과 **출력**\n",
    "---\n",
    "첫째 줄에 수의 개수 N(1 ≤ N ≤ 1,000,000)이 주어진다. 둘째 줄부터 N개의 줄에는 수가 주어진다. 이 수는 절댓값이 1,000,000보다 작거나 같은 정수이다. 수는 중복되지 않는다.\n",
    "\n",
    "첫째 줄부터 N개의 줄에 오름차순으로 정렬한 결과를 한 줄에 하나씩 출력한다."
   ]
  },
  {
   "cell_type": "code",
   "execution_count": null,
   "metadata": {},
   "outputs": [],
   "source": [
    "# 풀이\n",
    "import sys\n",
    "N =int(input())\n",
    "numbers = []\n",
    "for _ in range(N):\n",
    "    numbers.append(int(sys.stdin.readline()))\n",
    "\n",
    "numbers.sort()\n",
    "\n",
    "for num in numbers:\n",
    "    print(num)"
   ]
  },
  {
   "cell_type": "code",
   "execution_count": null,
   "metadata": {},
   "outputs": [],
   "source": []
  },
  {
   "cell_type": "code",
   "execution_count": null,
   "metadata": {},
   "outputs": [],
   "source": []
  }
 ],
 "metadata": {
  "kernelspec": {
   "display_name": "Python 3",
   "language": "python",
   "name": "python3"
  },
  "language_info": {
   "codemirror_mode": {
    "name": "ipython",
    "version": 3
   },
   "file_extension": ".py",
   "mimetype": "text/x-python",
   "name": "python",
   "nbconvert_exporter": "python",
   "pygments_lexer": "ipython3",
   "version": "3.11.2"
  }
 },
 "nbformat": 4,
 "nbformat_minor": 2
}
