{
 "cells": [
  {
   "cell_type": "markdown",
   "metadata": {},
   "source": [
    "# Programmers 두 개 뽑아서 더하기\n",
    "\n",
    "### **문제**\n",
    "---\n",
    "정수 배열 numbers가 주어집니다. numbers에서 서로 다른 인덱스에 있는 두 개의 수를 뽑아 더해서 만들 수 있는 모든 수를 배열에 오름차순으로 담아 return 하도록 solution 함수를 완성해주세요.\n",
    "\n",
    "### 제한사항\n",
    "- numbers의 길이는 2 이상 100 이하입니다.\n",
    "- numbers의 모든 수는 0 이상 100 이하입니다."
   ]
  },
  {
   "cell_type": "code",
   "execution_count": 12,
   "metadata": {},
   "outputs": [
    {
     "name": "stdout",
     "output_type": "stream",
     "text": [
      "[2, 3, 4, 5, 6, 7]\n"
     ]
    }
   ],
   "source": [
    "# 풀이\n",
    "# 1. 두개의 수를 뽑는 경우의 수를 구한다.\n",
    "# 2. 그것을 더하고 중복되는 경우는 리스트에 추가하지 않는다.\n",
    "\n",
    "from itertools import combinations\n",
    "answer = []\n",
    "numbers = [2,1,3,4,1]\n",
    "\n",
    "for i in combinations(numbers, 2):\n",
    "    if sum(i) not in answer:\n",
    "        answer.append(sum(i))\n",
    "\n",
    "print(sorted(answer))"
   ]
  },
  {
   "cell_type": "markdown",
   "metadata": {},
   "source": [
    "# Programmers H-index\n",
    "\n",
    "### **문제**\n",
    "---\n",
    "H-Index는 과학자의 생산성과 영향력을 나타내는 지표입니다. 어느 과학자의 H-Index를 나타내는 값인 h를 구하려고 합니다. 위키백과1에 따르면, H-Index는 다음과 같이 구합니다.\n",
    "\n",
    "어떤 과학자가 발표한 논문 n편 중, h번 이상 인용된 논문이 h편 이상이고 나머지 논문이 h번 이하 인용되었다면 h의 최댓값이 이 과학자의 H-Index입니다.\n",
    "\n",
    "어떤 과학자가 발표한 논문의 인용 횟수를 담은 배열 citations가 매개변수로 주어질 때, 이 과학자의 H-Index를 return 하도록 solution 함수를 작성해주세요.\n",
    "\n",
    "### 제한사항\n",
    "- 과학자가 발표한 논문의 수는 1편 이상 1,000편 이하입니다.\n",
    "- 논문별 인용 횟수는 0회 이상 10,000회 이하입니다."
   ]
  },
  {
   "cell_type": "code",
   "execution_count": 24,
   "metadata": {},
   "outputs": [
    {
     "data": {
      "text/plain": [
       "3"
      ]
     },
     "execution_count": 24,
     "metadata": {},
     "output_type": "execute_result"
    }
   ],
   "source": [
    "# 풀이\n",
    "# 1. 인용 리스트를 오름차순으로 정리한다.\n",
    "# 2. h번 이상 인용된 논문이 h편 이상 --> h보다 큰 수가 h개 이상\n",
    "# 3. 나머지 논문이 h번 이하 인용 --> h보다 작은 수가 h개 이하\n",
    "\n",
    "citations = [3, 0, 6, 1, 5]\n",
    "def solution(citations):\n",
    "    citations.sort() # 순차적으로 확인하기 위해 오름차순으로 정렬\n",
    "    for idx, citation in enumerate(citations): # 인용 횟수보다 큰 수, 인용 횟수보다 작은 수를 찾는다.\n",
    "        if citation >= len(citations) - idx:\n",
    "            return len(citations) - idx\n",
    "    return 0"
   ]
  },
  {
   "cell_type": "code",
   "execution_count": null,
   "metadata": {},
   "outputs": [],
   "source": []
  }
 ],
 "metadata": {
  "kernelspec": {
   "display_name": "Python 3",
   "language": "python",
   "name": "python3"
  },
  "language_info": {
   "codemirror_mode": {
    "name": "ipython",
    "version": 3
   },
   "file_extension": ".py",
   "mimetype": "text/x-python",
   "name": "python",
   "nbconvert_exporter": "python",
   "pygments_lexer": "ipython3",
   "version": "3.11.2"
  }
 },
 "nbformat": 4,
 "nbformat_minor": 2
}
