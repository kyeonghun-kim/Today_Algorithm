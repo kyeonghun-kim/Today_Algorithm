{
 "cells": [
  {
   "cell_type": "markdown",
   "metadata": {},
   "source": [
    "# BackJoon 2798번 블랙잭 (완전 탐색)\n",
    "\n",
    "### **문제**\n",
    "---\n",
    "카지노에서 제일 인기 있는 게임 블랙잭의 규칙은 상당히 쉽다. 카드의 합이 21을 넘지 않는 한도 내에서, 카드의 합을 최대한 크게 만드는 게임이다. 블랙잭은 카지노마다 다양한 규정이 있다.\n",
    "\n",
    "한국 최고의 블랙잭 고수 김정인은 새로운 블랙잭 규칙을 만들어 상근, 창영이와 게임하려고 한다.\n",
    "\n",
    "김정인 버전의 블랙잭에서 각 카드에는 양의 정수가 쓰여 있다. 그 다음, 딜러는 N장의 카드를 모두 숫자가 보이도록 바닥에 놓는다. 그런 후에 딜러는 숫자 M을 크게 외친다.\n",
    "\n",
    "이제 플레이어는 제한된 시간 안에 N장의 카드 중에서 3장의 카드를 골라야 한다. 블랙잭 변형 게임이기 때문에, 플레이어가 고른 카드의 합은 M을 넘지 않으면서 M과 최대한 가깝게 만들어야 한다.\n",
    "\n",
    "N장의 카드에 써져 있는 숫자가 주어졌을 때, M을 넘지 않으면서 M에 최대한 가까운 카드 3장의 합을 구해 출력하시오.\n",
    "\n",
    "### **입력**\n",
    "---\n",
    "첫째 줄에 카드의 개수 N(3 ≤ N ≤ 100)과 M(10 ≤ M ≤ 300,000)이 주어진다. 둘째 줄에는 카드에 쓰여 있는 수가 주어지며, 이 값은 100,000을 넘지 않는 양의 정수이다.\n",
    "\n",
    "합이 M을 넘지 않는 카드 3장을 찾을 수 있는 경우만 입력으로 주어진다.\n",
    "\n",
    "### **출력**\n",
    "---\n",
    "첫째 줄에 M을 넘지 않으면서 M에 최대한 가까운 카드 3장의 합을 출력한다."
   ]
  },
  {
   "cell_type": "code",
   "execution_count": 29,
   "metadata": {},
   "outputs": [],
   "source": [
    "# 풀이\n",
    "# N개의 수에서 3개를 뽑아 더하는 경우의 수를 구한다.\n",
    "# 순열과 조합 중 순열을 구해야하기 때문에 내부라이브러리를 사용한다.\n",
    "# 차가 작은수 --> 작거나 같은 수 중 가장 큰 값을 구한다\n",
    "\n",
    "from itertools import permutations\n",
    "\n",
    "N, M = map(int, input())\n",
    "num_arr = list(map(int, input().split()))\n",
    "result = 0 # 가장 차이가 작은 수\n",
    "\n",
    "for outcomes in list(permutations(num_arr, 3)):\n",
    "    if sum(outcomes) <= M:\n",
    "        result = max(sum(outcomes), result)\n",
    "print(result)"
   ]
  },
  {
   "cell_type": "markdown",
   "metadata": {},
   "source": [
    "# BackJoon 2501번 약수 구하기 (완전 탐색)\n",
    "\n",
    "### **문제**\n",
    "---\n",
    "어떤 자연수 p와 q가 있을 때, 만일 p를 q로 나누었을 때 나머지가 0이면 q는 p의 약수이다. \n",
    "\n",
    "6을 예로 들면\n",
    "- 6 ÷ 1 = 6 … 0\n",
    "- 6 ÷ 2 = 3 … 0\n",
    "- 6 ÷ 3 = 2 … 0\n",
    "- 6 ÷ 4 = 1 … 2\n",
    "- 6 ÷ 5 = 1 … 1\n",
    "- 6 ÷ 6 = 1 … 0\n",
    "그래서 6의 약수는 1, 2, 3, 6, 총 네 개이다.\n",
    "\n",
    "두 개의 자연수 N과 K가 주어졌을 때, N의 약수들 중 K번째로 작은 수를 출력하는 프로그램을 작성하시오.\n",
    "\n",
    "### **입력**과 **출력**\n",
    "---\n",
    "첫째 줄에 N과 K가 빈칸을 사이에 두고 주어진다. N은 1 이상 10,000 이하이다. K는 1 이상 N 이하이다.\n",
    "\n",
    "첫째 줄에 N의 약수들 중 K번째로 작은 수를 출력한다. 만일 N의 약수의 개수가 K개보다 적어서 K번째 약수가 존재하지 않을 경우에는 0을 출력하시오."
   ]
  },
  {
   "cell_type": "code",
   "execution_count": null,
   "metadata": {},
   "outputs": [],
   "source": [
    "# 전체 약수의 갯수를 구한다.\n",
    "# K값 보다 작을 경우 먼저 0을 반환한다.\n",
    "\n",
    "N, K = map(int, input().split())\n",
    "\n",
    "num_list = []\n",
    "\n",
    "for factors in range(1, N+1):\n",
    "    if N % factors == 0:\n",
    "        num_list.append(factors)\n",
    "\n",
    "if len(num_list) < K:\n",
    "    print(0)\n",
    "else:\n",
    "    print(num_list[K-1])"
   ]
  },
  {
   "cell_type": "markdown",
   "metadata": {},
   "source": [
    "# BackJoon 1977번 완전제곱수 (완전탐색)\n",
    "\n",
    "### **문제**\n",
    "---\n",
    "M과 N이 주어질 때 M이상 N이하의 자연수 중 완전제곱수인 것을 모두 골라 그 합을 구하고 그 중 최솟값을 찾는 프로그램을 작성하시오. 예를 들어 M=60, N=100인 경우 60이상 100이하의 자연수 중 완전제곱수는 64, 81, 100 이렇게 총 3개가 있으므로 그 합은 245가 되고 이 중 최솟값은 64가 된다.\n",
    "\n",
    "### **입력**과 **출력**\n",
    "---\n",
    "첫째 줄에 M이, 둘째 줄에 N이 주어진다. M과 N은 10000이하의 자연수이며 M은 N보다 같거나 작다.\n",
    "\n",
    "M이상 N이하의 자연수 중 완전제곱수인 것을 모두 찾아 첫째 줄에 그 합을, 둘째 줄에 그 중 최솟값을 출력한다. 단, M이상 N이하의 자연수 중 완전제곱수가 없을 경우는 첫째 줄에 -1을 출력한다."
   ]
  },
  {
   "cell_type": "code",
   "execution_count": null,
   "metadata": {},
   "outputs": [],
   "source": [
    "# 완전제곱수를 전부 찾아서 합을 구한다.\n",
    "# 완전제곱수의 제곱근이 정수인 것을 활용한다, isinstance()를 사용하자.\n",
    "\n",
    "M = int(input())\n",
    "N = int(input())\n",
    "result = []\n",
    "\n",
    "for num in range(M, N+1):\n",
    "    if (num ** 0.5) - int(num ** 0.5) == 0:\n",
    "        result.append(num)\n",
    "if sum(result) > 0:\n",
    "    print(sum(result))\n",
    "    print(result[0])\n",
    "else:\n",
    "    print(-1)"
   ]
  },
  {
   "cell_type": "markdown",
   "metadata": {},
   "source": [
    "# BackJoon 2309번 일곱난쟁이 (완전 탐색)\n",
    "\n",
    "### **문제**\n",
    "---\n",
    "왕비를 피해 일곱 난쟁이들과 함께 평화롭게 생활하고 있던 백설공주에게 위기가 찾아왔다. 일과를 마치고 돌아온 난쟁이가 일곱 명이 아닌 아홉 명이었던 것이다.\n",
    "\n",
    "아홉 명의 난쟁이는 모두 자신이 \"백설 공주와 일곱 난쟁이\"의 주인공이라고 주장했다. 뛰어난 수학적 직관력을 가지고 있던 백설공주는, 다행스럽게도 일곱 난쟁이의 키의 합이 100이 됨을 기억해 냈다.\n",
    "\n",
    "아홉 난쟁이의 키가 주어졌을 때, 백설공주를 도와 일곱 난쟁이를 찾는 프로그램을 작성하시오.\n",
    "\n",
    "### **입력**과 **출력**\n",
    "---\n",
    "아홉 개의 줄에 걸쳐 난쟁이들의 키가 주어진다. 주어지는 키는 100을 넘지 않는 자연수이며, 아홉 난쟁이의 키는 모두 다르며, 가능한 정답이 여러 가지인 경우에는 아무거나 출력한다.\n",
    "\n",
    "일곱 난쟁이의 키를 오름차순으로 출력한다. 일곱 난쟁이를 찾을 수 없는 경우는 없다."
   ]
  },
  {
   "cell_type": "code",
   "execution_count": null,
   "metadata": {},
   "outputs": [],
   "source": [
    "# 9개의 수에서 7개를 뽑는 경우의 수를 구한다.\n",
    "# 그 합이 100이 되는 경우의 수를 찾는다.\n",
    "# 그 조합을 오름차순으로 정리한 뒤 한줄씩 출력한다.\n",
    "\n",
    "from itertools import combinations\n",
    "\n",
    "height_list = []\n",
    "for i in range(9):\n",
    "    height_list.append(int(input()))\n",
    "\n",
    "combination = list(combinations(height_list, 7))\n",
    "result = []\n",
    "for outcomes in combination:\n",
    "    if sum(outcomes) == 100 and result == []: # 아무거나 출력이 가능하기 때문에 중복된 조합은 추가 시키지 않음.\n",
    "        result.append(outcomes)\n",
    "for i in sorted(result[0]): # tuple 요소 오름차순\n",
    "    print(i)"
   ]
  }
 ],
 "metadata": {
  "kernelspec": {
   "display_name": "Python 3",
   "language": "python",
   "name": "python3"
  },
  "language_info": {
   "codemirror_mode": {
    "name": "ipython",
    "version": 3
   },
   "file_extension": ".py",
   "mimetype": "text/x-python",
   "name": "python",
   "nbconvert_exporter": "python",
   "pygments_lexer": "ipython3",
   "version": "3.11.2"
  }
 },
 "nbformat": 4,
 "nbformat_minor": 2
}
