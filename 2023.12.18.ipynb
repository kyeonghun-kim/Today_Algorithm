{
 "cells": [
  {
   "cell_type": "markdown",
   "metadata": {},
   "source": [
    "# BackJoon 1316번 그룹 단어 체커 (문자열, 스택)\n",
    "\n",
    "### **문제**\n",
    "---\n",
    "그룹 단어란 단어에 존재하는 모든 문자에 대해서, 각 문자가 연속해서 나타나는 경우만을 말한다. 예를 들면, ccazzzzbb는 c, a, z, b가 모두 연속해서 나타나고, kin도 k, i, n이 연속해서 나타나기 때문에 그룹 단어이지만, aabbbccb는 b가 떨어져서 나타나기 때문에 그룹 단어가 아니다.\n",
    "\n",
    "단어 N개를 입력으로 받아 그룹 단어의 개수를 출력하는 프로그램을 작성하시오.\n",
    "\n",
    "### **입력**과 **출력**\n",
    "---\n",
    "첫째 줄에 단어의 개수 N이 들어온다. N은 100보다 작거나 같은 자연수이다. 둘째 줄부터 N개의 줄에 단어가 들어온다. 단어는 알파벳 소문자로만 되어있고 중복되지 않으며, 길이는 최대 100이다.\n",
    "\n",
    "첫째 줄에 그룹 단어의 개수를 출력한다."
   ]
  },
  {
   "cell_type": "code",
   "execution_count": 1,
   "metadata": {},
   "outputs": [],
   "source": [
    "# 풀이\n",
    "# 그룹 단어란? 연속 또는 한번, 그리고 떨어져서 등장해서는 안된다.\n",
    "# 1. 전체 단어의 수에서 그룹 단어가 아닌 단어의 수를 뺀다.\n",
    "# 2. 스택을 사용해서 떨어져 있는 같은 문자가 들어오면 반복문을 중단하고 count의 수를 하나씩 줄인다.\n",
    "\n",
    "N = int(input())\n",
    "word_list = []\n",
    "for _ in range(N):\n",
    "    word = input()\n",
    "    word_list. append(word)\n",
    "\n",
    "count = len(word_list)\n",
    "for word in word_list:\n",
    "    stack = []\n",
    "    for s in word:\n",
    "        if stack and stack[-1] == s: continue\n",
    "        else:\n",
    "            if s in stack:\n",
    "                count -= 1\n",
    "                break\n",
    "            stack.append(s)\n",
    "print(count)"
   ]
  },
  {
   "cell_type": "code",
   "execution_count": null,
   "metadata": {},
   "outputs": [],
   "source": []
  }
 ],
 "metadata": {
  "kernelspec": {
   "display_name": "Python 3",
   "language": "python",
   "name": "python3"
  },
  "language_info": {
   "codemirror_mode": {
    "name": "ipython",
    "version": 3
   },
   "file_extension": ".py",
   "mimetype": "text/x-python",
   "name": "python",
   "nbconvert_exporter": "python",
   "pygments_lexer": "ipython3",
   "version": "3.11.2"
  }
 },
 "nbformat": 4,
 "nbformat_minor": 2
}
