{
 "cells": [
  {
   "cell_type": "markdown",
   "metadata": {},
   "source": [
    "# BackJoon 11720번 숫자의 합(문자열)\n",
    "\n",
    "### **문제**\n",
    "---\n",
    "N개의 숫자가 공백 없이 쓰여있다. 이 숫자를 모두 합해서 출력하는 프로그램을 작성하시오.\n",
    "\n",
    "### **입력**과 **출력**\n",
    "---\n",
    "첫째 줄에 숫자의 개수 N (1 ≤ N ≤ 100)이 주어진다. 둘째 줄에 숫자 N개가 공백없이 주어진다.\n",
    "\n",
    "입력으로 주어진 숫자 N개의 합을 출력한다."
   ]
  },
  {
   "cell_type": "code",
   "execution_count": null,
   "metadata": {},
   "outputs": [],
   "source": [
    "# 풀이\n",
    "# 1. 반복문을 사용해서 전체 문자를 조회한다.\n",
    "# 2. 문자를 정수로 바꾸고 반복문이 실행되면서 합을 구한다.\n",
    "\n",
    "N = int(input())\n",
    "\n",
    "number = input()\n",
    "result = 0\n",
    "\n",
    "for num in number:\n",
    "    result += int(num)\n",
    "\n",
    "print(result)"
   ]
  }
 ],
 "metadata": {
  "kernelspec": {
   "display_name": "Python 3",
   "language": "python",
   "name": "python3"
  },
  "language_info": {
   "name": "python",
   "version": "3.11.2"
  }
 },
 "nbformat": 4,
 "nbformat_minor": 2
}
