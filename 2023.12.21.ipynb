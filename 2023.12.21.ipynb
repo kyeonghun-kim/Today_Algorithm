{
 "cells": [
  {
   "cell_type": "markdown",
   "metadata": {},
   "source": [
    "# BackJoon 11720번 숫자의 합(문자열)\n",
    "\n",
    "### **문제**\n",
    "---\n",
    "N개의 숫자가 공백 없이 쓰여있다. 이 숫자를 모두 합해서 출력하는 프로그램을 작성하시오.\n",
    "\n",
    "### **입력**과 **출력**\n",
    "---\n",
    "첫째 줄에 숫자의 개수 N (1 ≤ N ≤ 100)이 주어진다. 둘째 줄에 숫자 N개가 공백없이 주어진다.\n",
    "\n",
    "입력으로 주어진 숫자 N개의 합을 출력한다."
   ]
  },
  {
   "cell_type": "code",
   "execution_count": null,
   "metadata": {},
   "outputs": [],
   "source": [
    "# 풀이\n",
    "# 1. 반복문을 사용해서 전체 문자를 조회한다.\n",
    "# 2. 문자를 정수로 바꾸고 반복문이 실행되면서 합을 구한다.\n",
    "\n",
    "N = int(input())\n",
    "\n",
    "number = input()\n",
    "result = 0\n",
    "\n",
    "for num in number:\n",
    "    result += int(num)\n",
    "\n",
    "print(result)"
   ]
  },
  {
   "cell_type": "markdown",
   "metadata": {},
   "source": [
    "# BackJoon 3003번 킹, 퀸, 룩, 비숍, 나이트, 폰\n",
    "\n",
    "### **문제##\n",
    "---\n",
    "동혁이는 오래된 창고를 뒤지다가 낡은 체스판과 피스를 발견했다.\n",
    "\n",
    "체스판의 먼지를 털어내고 걸레로 닦으니 그럭저럭 쓸만한 체스판이 되었다. 하지만, 검정색 피스는 모두 있었으나, 흰색 피스는 개수가 올바르지 않았다.\n",
    "\n",
    "체스는 총 16개의 피스를 사용하며, 킹 1개, 퀸 1개, 룩 2개, 비숍 2개, 나이트 2개, 폰 8개로 구성되어 있다.\n",
    "\n",
    "동혁이가 발견한 흰색 피스의 개수가 주어졌을 때, 몇 개를 더하거나 빼야 올바른 세트가 되는지 구하는 프로그램을 작성하시오.\n",
    "\n",
    "### **입력**과 **출력**\n",
    "---\n",
    "첫째 줄에 동혁이가 찾은 흰색 킹, 퀸, 룩, 비숍, 나이트, 폰의 개수가 주어진다. 이 값은 0보다 크거나 같고 10보다 작거나 같은 정수이다.\n",
    "\n",
    "첫째 줄에 입력에서 주어진 순서대로 몇 개의 피스를 더하거나 빼야 되는지를 출력한다. 만약 수가 양수라면 동혁이는 그 개수 만큼 피스를 더해야 하는 것이고, 음수라면 제거해야 하는 것이다."
   ]
  },
  {
   "cell_type": "code",
   "execution_count": null,
   "metadata": {},
   "outputs": [],
   "source": [
    "# 풀이\n",
    "# 1. 세트를 구성하는 체스 리스트를 작성한다.\n",
    "# 2. 이 세트 리스트와 입력 리스트를 비교해서 출력한다.\n",
    "\n",
    "input_set = list(map(int, input().split()))\n",
    "\n",
    "chess_set = [1, 1, 2, 2, 2, 8]\n",
    "\n",
    "for i in range(6):\n",
    "    print(chess_set[i] - input_set[i], end=' ')"
   ]
  }
 ],
 "metadata": {
  "kernelspec": {
   "display_name": "Python 3",
   "language": "python",
   "name": "python3"
  },
  "language_info": {
   "name": "python",
   "version": "3.11.2"
  }
 },
 "nbformat": 4,
 "nbformat_minor": 2
}
